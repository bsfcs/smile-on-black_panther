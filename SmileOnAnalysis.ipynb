{
 "cells": [
  {
   "cell_type": "markdown",
   "metadata": {},
   "source": [
    "### Smile On EDA"
   ]
  },
  {
   "cell_type": "markdown",
   "metadata": {},
   "source": [
    "#### For this analysis we want to answer the following questions: \n",
    "-  Has the Smile On program been effective?\n",
    "-  Is the Smile On program being used by people in the area where tooth loss is greatest?"
   ]
  },
  {
   "cell_type": "code",
   "execution_count": 1,
   "metadata": {},
   "outputs": [],
   "source": [
    "from shapely.geometry import Point\n",
    "import pandas as pd\n",
    "import geopandas as gpd\n",
    "import matplotlib.pyplot as plt\n",
    "import folium\n",
    "from folium.plugins import MarkerCluster\n",
    "from folium.plugins import FastMarkerCluster"
   ]
  },
  {
   "cell_type": "markdown",
   "metadata": {},
   "source": [
    "#### Let's read in the data and look at the first few rows"
   ]
  },
  {
   "cell_type": "code",
   "execution_count": 16,
   "metadata": {},
   "outputs": [
    {
     "name": "stderr",
     "output_type": "stream",
     "text": [
      "C:\\Users\\sbive\\anaconda3\\envs\\geospatial\\lib\\site-packages\\IPython\\core\\interactiveshell.py:3146: DtypeWarning: Columns (32,36,53,59,88,89,127,141,144,156,157,158,159) have mixed types.Specify dtype option on import or set low_memory=False.\n",
      "  has_raised = await self.run_ast_nodes(code_ast.body, cell_name,\n"
     ]
    },
    {
     "data": {
      "text/html": [
       "<div>\n",
       "<style scoped>\n",
       "    .dataframe tbody tr th:only-of-type {\n",
       "        vertical-align: middle;\n",
       "    }\n",
       "\n",
       "    .dataframe tbody tr th {\n",
       "        vertical-align: top;\n",
       "    }\n",
       "\n",
       "    .dataframe thead th {\n",
       "        text-align: right;\n",
       "    }\n",
       "</style>\n",
       "<table border=\"1\" class=\"dataframe\">\n",
       "  <thead>\n",
       "    <tr style=\"text-align: right;\">\n",
       "      <th></th>\n",
       "      <th>CallReportNum</th>\n",
       "      <th>ReportVersion</th>\n",
       "      <th>LinkedToCallReportNum</th>\n",
       "      <th>CallDateAndTimeStart</th>\n",
       "      <th>CallDateAndTimeEnd</th>\n",
       "      <th>CallLength</th>\n",
       "      <th>CallerNum</th>\n",
       "      <th>PhoneWorkerNum</th>\n",
       "      <th>WasRealCall</th>\n",
       "      <th>WasHangup</th>\n",
       "      <th>...</th>\n",
       "      <th>SMILE ON 60+ Screening - Treatment Urgency</th>\n",
       "      <th>SMILE ON 60+ Screening - Untreated Decay</th>\n",
       "      <th>SMILE ON 60+ Site Information - Enroller ID</th>\n",
       "      <th>SMILE ON 60+ Site Information - Enroller Location</th>\n",
       "      <th>SMILE ON 60+ Treatment Plan - Action: Upload After Picture on Finish Tab</th>\n",
       "      <th>SMILE ON 60+ Treatment Plan - Is the treatment plan completed?</th>\n",
       "      <th>SMILE ON 60+ Treatment Plan - Was a treatment plan developed?</th>\n",
       "      <th>SMILE ON 60+ Treatment Plan - Was the enrollee able to be restored to function (can chew) and \"social six\" esthetics (top front six teeth are present and disease free)</th>\n",
       "      <th>SMILE ON 60+ Verification of Eligibility - Transportation Arranged</th>\n",
       "      <th>SMILE ON 60+ Verification of Eligibility - Verification of Eligibility</th>\n",
       "    </tr>\n",
       "  </thead>\n",
       "  <tbody>\n",
       "    <tr>\n",
       "      <th>0</th>\n",
       "      <td>81381827</td>\n",
       "      <td>SMILE ON 60+ Registration</td>\n",
       "      <td>NaN</td>\n",
       "      <td>11/25/2020 16:46</td>\n",
       "      <td>11/25/2020 16:48</td>\n",
       "      <td>2</td>\n",
       "      <td>3859874</td>\n",
       "      <td>136529</td>\n",
       "      <td>NaN</td>\n",
       "      <td>NaN</td>\n",
       "      <td>...</td>\n",
       "      <td>NaN</td>\n",
       "      <td>NaN</td>\n",
       "      <td>Matthew Walker Comprehensive Health Center Inc...</td>\n",
       "      <td>Provider Site</td>\n",
       "      <td>NaN</td>\n",
       "      <td>NaN</td>\n",
       "      <td>NaN</td>\n",
       "      <td>NaN</td>\n",
       "      <td>NaN</td>\n",
       "      <td>NaN</td>\n",
       "    </tr>\n",
       "    <tr>\n",
       "      <th>1</th>\n",
       "      <td>81379177</td>\n",
       "      <td>SMILE ON 60+ Registration</td>\n",
       "      <td>NaN</td>\n",
       "      <td>11/25/2020 15:40</td>\n",
       "      <td>11/25/2020 15:55</td>\n",
       "      <td>15</td>\n",
       "      <td>3859755</td>\n",
       "      <td>82341</td>\n",
       "      <td>NaN</td>\n",
       "      <td>NaN</td>\n",
       "      <td>...</td>\n",
       "      <td>NaN</td>\n",
       "      <td>NaN</td>\n",
       "      <td>NaN</td>\n",
       "      <td>Health Assist Office</td>\n",
       "      <td>NaN</td>\n",
       "      <td>NaN</td>\n",
       "      <td>NaN</td>\n",
       "      <td>NaN</td>\n",
       "      <td>NaN</td>\n",
       "      <td>NaN</td>\n",
       "    </tr>\n",
       "    <tr>\n",
       "      <th>2</th>\n",
       "      <td>81377435</td>\n",
       "      <td>SMILE ON 60+ Clinical</td>\n",
       "      <td>NaN</td>\n",
       "      <td>11/25/2020 15:02</td>\n",
       "      <td>11/25/2020 15:02</td>\n",
       "      <td>0</td>\n",
       "      <td>2518680</td>\n",
       "      <td>119506</td>\n",
       "      <td>NaN</td>\n",
       "      <td>NaN</td>\n",
       "      <td>...</td>\n",
       "      <td>NaN</td>\n",
       "      <td>NaN</td>\n",
       "      <td>Friends in Need Health Center - Kingsport</td>\n",
       "      <td>Provider Site</td>\n",
       "      <td>NaN</td>\n",
       "      <td>Yes</td>\n",
       "      <td>Yes</td>\n",
       "      <td>Yes</td>\n",
       "      <td>NaN</td>\n",
       "      <td>NaN</td>\n",
       "    </tr>\n",
       "    <tr>\n",
       "      <th>3</th>\n",
       "      <td>81375215</td>\n",
       "      <td>SMILE ON 60+ Clinical</td>\n",
       "      <td>NaN</td>\n",
       "      <td>11/25/2020 14:17</td>\n",
       "      <td>11/25/2020 14:17</td>\n",
       "      <td>0</td>\n",
       "      <td>3231923</td>\n",
       "      <td>143703</td>\n",
       "      <td>NaN</td>\n",
       "      <td>NaN</td>\n",
       "      <td>...</td>\n",
       "      <td>NaN</td>\n",
       "      <td>NaN</td>\n",
       "      <td>Christ Community Health Services- Frayser</td>\n",
       "      <td>Provider Site</td>\n",
       "      <td>NaN</td>\n",
       "      <td>NaN</td>\n",
       "      <td>NaN</td>\n",
       "      <td>NaN</td>\n",
       "      <td>NaN</td>\n",
       "      <td>NaN</td>\n",
       "    </tr>\n",
       "    <tr>\n",
       "      <th>4</th>\n",
       "      <td>81373934</td>\n",
       "      <td>SMILE ON 60+ Clinical</td>\n",
       "      <td>NaN</td>\n",
       "      <td>11/25/2020 13:50</td>\n",
       "      <td>11/25/2020 13:58</td>\n",
       "      <td>8</td>\n",
       "      <td>-1</td>\n",
       "      <td>135611</td>\n",
       "      <td>NaN</td>\n",
       "      <td>NaN</td>\n",
       "      <td>...</td>\n",
       "      <td>Urgent Care - within next week-pain or infection</td>\n",
       "      <td>Yes</td>\n",
       "      <td>Neighborhood Health - Lebanon</td>\n",
       "      <td>NaN</td>\n",
       "      <td>NaN</td>\n",
       "      <td>NaN</td>\n",
       "      <td>Yes</td>\n",
       "      <td>No</td>\n",
       "      <td>NaN</td>\n",
       "      <td>Yes</td>\n",
       "    </tr>\n",
       "  </tbody>\n",
       "</table>\n",
       "<p>5 rows × 184 columns</p>\n",
       "</div>"
      ],
      "text/plain": [
       "   CallReportNum              ReportVersion  LinkedToCallReportNum  \\\n",
       "0       81381827  SMILE ON 60+ Registration                    NaN   \n",
       "1       81379177  SMILE ON 60+ Registration                    NaN   \n",
       "2       81377435      SMILE ON 60+ Clinical                    NaN   \n",
       "3       81375215      SMILE ON 60+ Clinical                    NaN   \n",
       "4       81373934      SMILE ON 60+ Clinical                    NaN   \n",
       "\n",
       "  CallDateAndTimeStart CallDateAndTimeEnd  CallLength  CallerNum  \\\n",
       "0     11/25/2020 16:46   11/25/2020 16:48           2    3859874   \n",
       "1     11/25/2020 15:40   11/25/2020 15:55          15    3859755   \n",
       "2     11/25/2020 15:02   11/25/2020 15:02           0    2518680   \n",
       "3     11/25/2020 14:17   11/25/2020 14:17           0    3231923   \n",
       "4     11/25/2020 13:50   11/25/2020 13:58           8         -1   \n",
       "\n",
       "   PhoneWorkerNum  WasRealCall  WasHangup  ...  \\\n",
       "0          136529          NaN        NaN  ...   \n",
       "1           82341          NaN        NaN  ...   \n",
       "2          119506          NaN        NaN  ...   \n",
       "3          143703          NaN        NaN  ...   \n",
       "4          135611          NaN        NaN  ...   \n",
       "\n",
       "         SMILE ON 60+ Screening - Treatment Urgency  \\\n",
       "0                                               NaN   \n",
       "1                                               NaN   \n",
       "2                                               NaN   \n",
       "3                                               NaN   \n",
       "4  Urgent Care - within next week-pain or infection   \n",
       "\n",
       "   SMILE ON 60+ Screening - Untreated Decay  \\\n",
       "0                                       NaN   \n",
       "1                                       NaN   \n",
       "2                                       NaN   \n",
       "3                                       NaN   \n",
       "4                                       Yes   \n",
       "\n",
       "         SMILE ON 60+ Site Information - Enroller ID  \\\n",
       "0  Matthew Walker Comprehensive Health Center Inc...   \n",
       "1                                                NaN   \n",
       "2          Friends in Need Health Center - Kingsport   \n",
       "3          Christ Community Health Services- Frayser   \n",
       "4                      Neighborhood Health - Lebanon   \n",
       "\n",
       "   SMILE ON 60+ Site Information - Enroller Location  \\\n",
       "0                                      Provider Site   \n",
       "1                               Health Assist Office   \n",
       "2                                      Provider Site   \n",
       "3                                      Provider Site   \n",
       "4                                                NaN   \n",
       "\n",
       "   SMILE ON 60+ Treatment Plan - Action: Upload After Picture on Finish Tab  \\\n",
       "0                                                NaN                          \n",
       "1                                                NaN                          \n",
       "2                                                NaN                          \n",
       "3                                                NaN                          \n",
       "4                                                NaN                          \n",
       "\n",
       "   SMILE ON 60+ Treatment Plan - Is the treatment plan completed?  \\\n",
       "0                                                NaN                \n",
       "1                                                NaN                \n",
       "2                                                Yes                \n",
       "3                                                NaN                \n",
       "4                                                NaN                \n",
       "\n",
       "  SMILE ON 60+ Treatment Plan - Was a treatment plan developed?  \\\n",
       "0                                                NaN              \n",
       "1                                                NaN              \n",
       "2                                                Yes              \n",
       "3                                                NaN              \n",
       "4                                                Yes              \n",
       "\n",
       "  SMILE ON 60+ Treatment Plan - Was the enrollee able to be restored to function (can chew) and \"social six\" esthetics (top front six teeth are present and disease free)  \\\n",
       "0                                                NaN                                                                                                                        \n",
       "1                                                NaN                                                                                                                        \n",
       "2                                                Yes                                                                                                                        \n",
       "3                                                NaN                                                                                                                        \n",
       "4                                                 No                                                                                                                        \n",
       "\n",
       "  SMILE ON 60+ Verification of Eligibility - Transportation Arranged  \\\n",
       "0                                                NaN                   \n",
       "1                                                NaN                   \n",
       "2                                                NaN                   \n",
       "3                                                NaN                   \n",
       "4                                                NaN                   \n",
       "\n",
       "  SMILE ON 60+ Verification of Eligibility - Verification of Eligibility  \n",
       "0                                                NaN                      \n",
       "1                                                NaN                      \n",
       "2                                                NaN                      \n",
       "3                                                NaN                      \n",
       "4                                                Yes                      \n",
       "\n",
       "[5 rows x 184 columns]"
      ]
     },
     "execution_count": 16,
     "metadata": {},
     "output_type": "execute_result"
    }
   ],
   "source": [
    "smile = pd.read_csv('data/smile_on.csv', sep=',', encoding='latin-1', skiprows = 2)\n",
    "smile.head()"
   ]
  },
  {
   "cell_type": "code",
   "execution_count": 15,
   "metadata": {},
   "outputs": [
    {
     "data": {
      "text/plain": [
       "(40032, 184)"
      ]
     },
     "execution_count": 15,
     "metadata": {},
     "output_type": "execute_result"
    }
   ],
   "source": [
    "smile.shape"
   ]
  },
  {
   "cell_type": "code",
   "execution_count": 17,
   "metadata": {},
   "outputs": [
    {
     "data": {
      "text/plain": [
       "<bound method DataFrame.info of        CallReportNum              ReportVersion  LinkedToCallReportNum  \\\n",
       "0           81381827  SMILE ON 60+ Registration                    NaN   \n",
       "1           81379177  SMILE ON 60+ Registration                    NaN   \n",
       "2           81377435      SMILE ON 60+ Clinical                    NaN   \n",
       "3           81375215      SMILE ON 60+ Clinical                    NaN   \n",
       "4           81373934      SMILE ON 60+ Clinical                    NaN   \n",
       "...              ...                        ...                    ...   \n",
       "40027       53192452  SMILE ON 60+ Registration                    NaN   \n",
       "40028       67915561  SMILE ON 60+ Registration                    NaN   \n",
       "40029       67251405      SMILE ON 60+ Clinical                    NaN   \n",
       "40030       63063150      SMILE ON 60+ Clinical                    NaN   \n",
       "40031       70839903      SMILE ON 60+ Clinical                    NaN   \n",
       "\n",
       "      CallDateAndTimeStart CallDateAndTimeEnd  CallLength  CallerNum  \\\n",
       "0         11/25/2020 16:46   11/25/2020 16:48           2    3859874   \n",
       "1         11/25/2020 15:40   11/25/2020 15:55          15    3859755   \n",
       "2         11/25/2020 15:02   11/25/2020 15:02           0    2518680   \n",
       "3         11/25/2020 14:17   11/25/2020 14:17           0    3231923   \n",
       "4         11/25/2020 13:50   11/25/2020 13:58           8         -1   \n",
       "...                    ...                ...         ...        ...   \n",
       "40027      5/23/2018 14:11    5/23/2018 14:11           0         -1   \n",
       "40028       5/15/2018 9:06     5/15/2018 9:10           4    3239813   \n",
       "40029       5/10/2018 8:25     5/10/2018 8:26           1    2631417   \n",
       "40030        5/1/2018 8:14      5/1/2018 8:24          10         -1   \n",
       "40031       2/14/2018 8:10     2/14/2018 8:18           8         -1   \n",
       "\n",
       "       PhoneWorkerNum  WasRealCall  WasHangup  ...  \\\n",
       "0              136529          NaN        NaN  ...   \n",
       "1               82341          NaN        NaN  ...   \n",
       "2              119506          NaN        NaN  ...   \n",
       "3              143703          NaN        NaN  ...   \n",
       "4              135611          NaN        NaN  ...   \n",
       "...               ...          ...        ...  ...   \n",
       "40027           60132          NaN        NaN  ...   \n",
       "40028          128174          NaN        NaN  ...   \n",
       "40029          131347          NaN        NaN  ...   \n",
       "40030          116749          NaN        NaN  ...   \n",
       "40031          116749          NaN        NaN  ...   \n",
       "\n",
       "             SMILE ON 60+ Screening - Treatment Urgency  \\\n",
       "0                                                   NaN   \n",
       "1                                                   NaN   \n",
       "2                                                   NaN   \n",
       "3                                                   NaN   \n",
       "4      Urgent Care - within next week-pain or infection   \n",
       "...                                                 ...   \n",
       "40027                                               NaN   \n",
       "40028                                               NaN   \n",
       "40029                                               NaN   \n",
       "40030                                               NaN   \n",
       "40031                                               NaN   \n",
       "\n",
       "       SMILE ON 60+ Screening - Untreated Decay  \\\n",
       "0                                           NaN   \n",
       "1                                           NaN   \n",
       "2                                           NaN   \n",
       "3                                           NaN   \n",
       "4                                           Yes   \n",
       "...                                         ...   \n",
       "40027                                       NaN   \n",
       "40028                                       NaN   \n",
       "40029                                       NaN   \n",
       "40030                                       NaN   \n",
       "40031                                       NaN   \n",
       "\n",
       "             SMILE ON 60+ Site Information - Enroller ID  \\\n",
       "0      Matthew Walker Comprehensive Health Center Inc...   \n",
       "1                                                    NaN   \n",
       "2              Friends in Need Health Center - Kingsport   \n",
       "3              Christ Community Health Services- Frayser   \n",
       "4                          Neighborhood Health - Lebanon   \n",
       "...                                                  ...   \n",
       "40027                                                NaN   \n",
       "40028                     Church Health Center - Memphis   \n",
       "40029          Friends in Need Health Center - Kingsport   \n",
       "40030               Interfaith Dental Clinic - Nashville   \n",
       "40031               Interfaith Dental Clinic - Nashville   \n",
       "\n",
       "       SMILE ON 60+ Site Information - Enroller Location  \\\n",
       "0                                          Provider Site   \n",
       "1                                   Health Assist Office   \n",
       "2                                          Provider Site   \n",
       "3                                          Provider Site   \n",
       "4                                                    NaN   \n",
       "...                                                  ...   \n",
       "40027                                                NaN   \n",
       "40028                                      Provider Site   \n",
       "40029                                      Provider Site   \n",
       "40030                                                NaN   \n",
       "40031                                                NaN   \n",
       "\n",
       "       SMILE ON 60+ Treatment Plan - Action: Upload After Picture on Finish Tab  \\\n",
       "0                                                    NaN                          \n",
       "1                                                    NaN                          \n",
       "2                                                    NaN                          \n",
       "3                                                    NaN                          \n",
       "4                                                    NaN                          \n",
       "...                                                  ...                          \n",
       "40027                                                NaN                          \n",
       "40028                                                NaN                          \n",
       "40029                                      Not available                          \n",
       "40030                                                NaN                          \n",
       "40031                                                NaN                          \n",
       "\n",
       "       SMILE ON 60+ Treatment Plan - Is the treatment plan completed?  \\\n",
       "0                                                    NaN                \n",
       "1                                                    NaN                \n",
       "2                                                    Yes                \n",
       "3                                                    NaN                \n",
       "4                                                    NaN                \n",
       "...                                                  ...                \n",
       "40027                                                NaN                \n",
       "40028                                                NaN                \n",
       "40029                                                 No                \n",
       "40030                                                NaN                \n",
       "40031                                                NaN                \n",
       "\n",
       "      SMILE ON 60+ Treatment Plan - Was a treatment plan developed?  \\\n",
       "0                                                    NaN              \n",
       "1                                                    NaN              \n",
       "2                                                    Yes              \n",
       "3                                                    NaN              \n",
       "4                                                    Yes              \n",
       "...                                                  ...              \n",
       "40027                                                NaN              \n",
       "40028                                                NaN              \n",
       "40029                                                Yes              \n",
       "40030                                                NaN              \n",
       "40031                                                NaN              \n",
       "\n",
       "      SMILE ON 60+ Treatment Plan - Was the enrollee able to be restored to function (can chew) and \"social six\" esthetics (top front six teeth are present and disease free)  \\\n",
       "0                                                    NaN                                                                                                                        \n",
       "1                                                    NaN                                                                                                                        \n",
       "2                                                    Yes                                                                                                                        \n",
       "3                                                    NaN                                                                                                                        \n",
       "4                                                     No                                                                                                                        \n",
       "...                                                  ...                                                                                                                        \n",
       "40027                                                NaN                                                                                                                        \n",
       "40028                                                NaN                                                                                                                        \n",
       "40029                                                Yes                                                                                                                        \n",
       "40030                                                NaN                                                                                                                        \n",
       "40031                                                NaN                                                                                                                        \n",
       "\n",
       "      SMILE ON 60+ Verification of Eligibility - Transportation Arranged  \\\n",
       "0                                                    NaN                   \n",
       "1                                                    NaN                   \n",
       "2                                                    NaN                   \n",
       "3                                                    NaN                   \n",
       "4                                                    NaN                   \n",
       "...                                                  ...                   \n",
       "40027                                                NaN                   \n",
       "40028                                                NaN                   \n",
       "40029                                                NaN                   \n",
       "40030                                                NaN                   \n",
       "40031                                                NaN                   \n",
       "\n",
       "      SMILE ON 60+ Verification of Eligibility - Verification of Eligibility  \n",
       "0                                                    NaN                      \n",
       "1                                                    NaN                      \n",
       "2                                                    NaN                      \n",
       "3                                                    NaN                      \n",
       "4                                                    Yes                      \n",
       "...                                                  ...                      \n",
       "40027                                                NaN                      \n",
       "40028                                                NaN                      \n",
       "40029                                                NaN                      \n",
       "40030                                                NaN                      \n",
       "40031                                                NaN                      \n",
       "\n",
       "[40032 rows x 184 columns]>"
      ]
     },
     "execution_count": 17,
     "metadata": {},
     "output_type": "execute_result"
    }
   ],
   "source": [
    "smile.info"
   ]
  },
  {
   "cell_type": "code",
   "execution_count": 19,
   "metadata": {},
   "outputs": [
    {
     "data": {
      "text/plain": [
       "-1          70\n",
       " 2441776    36\n",
       " 2431132    31\n",
       " 2416076    29\n",
       " 2466994    28\n",
       "            ..\n",
       " 3825101     1\n",
       " 3743280     1\n",
       " 2653820     1\n",
       " 3686036     1\n",
       " 3821558     1\n",
       "Name: CallerNum, Length: 8708, dtype: int64"
      ]
     },
     "execution_count": 19,
     "metadata": {},
     "output_type": "execute_result"
    }
   ],
   "source": [
    "smile.CallerNum.value_counts()"
   ]
  },
  {
   "cell_type": "code",
   "execution_count": 38,
   "metadata": {},
   "outputs": [
    {
     "data": {
      "text/plain": [
       "Nashville       6456\n",
       "Memphis         6304\n",
       "Murfreesboro    2435\n",
       "Cleveland       1718\n",
       "Knoxville       1461\n",
       "Kingsport       1219\n",
       "Antioch          976\n",
       "Madison          733\n",
       "Johnson City     704\n",
       "Smyrna           650\n",
       "Name: CityName, dtype: int64"
      ]
     },
     "execution_count": 38,
     "metadata": {},
     "output_type": "execute_result"
    }
   ],
   "source": [
    "smile.CityName.value_counts().head(10)"
   ]
  },
  {
   "cell_type": "code",
   "execution_count": 37,
   "metadata": {},
   "outputs": [
    {
     "data": {
      "text/plain": [
       "1958    2182\n",
       "1957    2046\n",
       "1956    2036\n",
       "1955    1841\n",
       "1954    1670\n",
       "1956    1493\n",
       "1955    1444\n",
       "1958    1364\n",
       "1957    1354\n",
       "1953    1286\n",
       "Name: Birth Year, dtype: int64"
      ]
     },
     "execution_count": 37,
     "metadata": {},
     "output_type": "execute_result"
    }
   ],
   "source": [
    "smile['Birth Year'].value_counts().head(10)"
   ]
  },
  {
   "cell_type": "code",
   "execution_count": 36,
   "metadata": {},
   "outputs": [
    {
     "data": {
      "text/plain": [
       "Interfaith Dental Clinic - Nashville                           5802\n",
       "Interfaith Dental Clinic - Murfreesboro                        3706\n",
       "Church Health Center - Memphis                                 3581\n",
       "Matthew Walker Comprehensive Health Center Inc. - Nashville    2516\n",
       "Interfaith Health Clinic of Knoxville - Knoxville              1822\n",
       "Karis Dental Clinic - Cleveland                                1809\n",
       "Friends in Need Health Center - Kingsport                      1566\n",
       "Healing Hands Health Center - Bristol                          1346\n",
       "Keystone Dental Care Inc. - Johnson City                       1032\n",
       "Christ Community Health Services- Hickory Hill                  986\n",
       "Name: SMILE ON 60+ Site Information - Enroller ID, dtype: int64"
      ]
     },
     "execution_count": 36,
     "metadata": {},
     "output_type": "execute_result"
    }
   ],
   "source": [
    "smile['SMILE ON 60+ Site Information - Enroller ID'].value_counts().head(10)"
   ]
  },
  {
   "cell_type": "code",
   "execution_count": 39,
   "metadata": {},
   "outputs": [
    {
     "data": {
      "text/plain": [
       "Yes    15930\n",
       "No      1098\n",
       "Name: SMILE ON 60+ Treatment Plan - Was a treatment plan developed?, dtype: int64"
      ]
     },
     "execution_count": 39,
     "metadata": {},
     "output_type": "execute_result"
    }
   ],
   "source": [
    "smile['SMILE ON 60+ Treatment Plan - Was a treatment plan developed?'].value_counts().head(10)"
   ]
  },
  {
   "cell_type": "code",
   "execution_count": 40,
   "metadata": {},
   "outputs": [
    {
     "data": {
      "text/plain": [
       "No     12431\n",
       "Yes     5104\n",
       "Name: SMILE ON 60+ Treatment Plan - Is the treatment plan completed?, dtype: int64"
      ]
     },
     "execution_count": 40,
     "metadata": {},
     "output_type": "execute_result"
    }
   ],
   "source": [
    "smile['SMILE ON 60+ Treatment Plan - Is the treatment plan completed?'].value_counts().head(10)"
   ]
  },
  {
   "cell_type": "code",
   "execution_count": 41,
   "metadata": {},
   "outputs": [
    {
     "data": {
      "text/plain": [
       "No     8127\n",
       "Yes    6149\n",
       "Name: SMILE ON 60+ Treatment Plan - Was the enrollee able to be restored to function (can chew) and \"social six\" esthetics (top front six teeth are present and disease free), dtype: int64"
      ]
     },
     "execution_count": 41,
     "metadata": {},
     "output_type": "execute_result"
    }
   ],
   "source": [
    "smile['SMILE ON 60+ Treatment Plan - Was the enrollee able to be restored to function (can chew) and \"social six\" esthetics (top front six teeth are present and disease free)'].value_counts().head(10)"
   ]
  },
  {
   "cell_type": "code",
   "execution_count": 54,
   "metadata": {},
   "outputs": [
    {
     "data": {
      "text/plain": [
       "Dental Clinic Staff                  22805\n",
       "Other                                 5725\n",
       "This encounter                        2488\n",
       "Wisdom Tooth Project Presentation     1988\n",
       "SMILE ON CDHC                         1438\n",
       "Senior Center                         1431\n",
       "TV                                     983\n",
       "Flyer                                  511\n",
       "Newspaper                              258\n",
       "Dental Hotline                         145\n",
       "Name: SMILE ON 60+ Demographic Information - How did you first hear about the SMILE ON 60+ program?, dtype: int64"
      ]
     },
     "execution_count": 54,
     "metadata": {},
     "output_type": "execute_result"
    }
   ],
   "source": [
    "smile['SMILE ON 60+ Demographic Information - How did you first hear about the SMILE ON 60+ program?'].value_counts().head(10)"
   ]
  },
  {
   "cell_type": "code",
   "execution_count": 56,
   "metadata": {},
   "outputs": [
    {
     "data": {
      "text/plain": [
       "No     5483\n",
       "Yes     342\n",
       "Name: SMILE ON 60+ Verification of Eligibility - Transportation Arranged, dtype: int64"
      ]
     },
     "execution_count": 56,
     "metadata": {},
     "output_type": "execute_result"
    }
   ],
   "source": [
    "smile['SMILE ON 60+ Verification of Eligibility - Transportation Arranged'].value_counts().head(10)"
   ]
  },
  {
   "cell_type": "code",
   "execution_count": 57,
   "metadata": {},
   "outputs": [
    {
     "data": {
      "text/plain": [
       "Less than 12 months    16751\n",
       "More than 5 years       8533\n",
       "1 to 2 years            7077\n",
       "3 to 5 years            4863\n",
       "Name: SMILE ON 60+ Demographic Information - When is the last time you visited your dentist?, dtype: int64"
      ]
     },
     "execution_count": 57,
     "metadata": {},
     "output_type": "execute_result"
    }
   ],
   "source": [
    "smile['SMILE ON 60+ Demographic Information - When is the last time you visited your dentist?'].value_counts().head(10)"
   ]
  },
  {
   "cell_type": "code",
   "execution_count": null,
   "metadata": {},
   "outputs": [],
   "source": []
  }
 ],
 "metadata": {
  "kernelspec": {
   "display_name": "Python 3",
   "language": "python",
   "name": "python3"
  },
  "language_info": {
   "codemirror_mode": {
    "name": "ipython",
    "version": 3
   },
   "file_extension": ".py",
   "mimetype": "text/x-python",
   "name": "python",
   "nbconvert_exporter": "python",
   "pygments_lexer": "ipython3",
   "version": "3.8.5"
  }
 },
 "nbformat": 4,
 "nbformat_minor": 4
}
